{
 "cells": [
  {
   "metadata": {},
   "cell_type": "markdown",
   "source": [
    "# Programozás\n",
    "## 2. előadás: Alapok"
   ],
   "id": "70c931fcf0a865b4"
  },
  {
   "metadata": {},
   "cell_type": "markdown",
   "source": [
    "### Tartalom: \n",
    "1. indentálás\n",
    "2. kommentek, docstring\n",
    "3. típusok: objektum és identifier, gyengén típusosság\n",
    "4. névterek, importálás, importálási típusok\n",
    "5. számok, boole-ok, operátorok (logikai is), precedencia\n",
    "6. stringek, alap szinten, string függvények nélkül\n",
    "7. típuskonverzió (esetleg visszatérés az inputhoz)\n",
    "8. errorok bemutatása "
   ],
   "id": "74e3a37298e97b60"
  },
  {
   "metadata": {},
   "cell_type": "markdown",
   "source": [
    "# Hogyan írjunk Python kódot?\n",
    "\n",
    "## Indentálás\n",
    "- A program több sorból álló „összetartozó” egységeit (függvények, flow kontrol stb.) minden nyelvben ún. blokkokkal jelöljük ki\n",
    "- Pythonban ezt az indentálással tesszük meg\n",
    "- Minden sor után ami ”:”-tal végződik, új indent szükséges\n",
    "- A nem hivatalos standard: 1 tab (= 4 db. space)"
   ],
   "id": "b9fb2f2bd716fabe"
  },
  {
   "metadata": {},
   "cell_type": "code",
   "source": [
    "def add(arg_1, arg_2):\n",
    "    return arg_1 + arg_2"
   ],
   "id": "6d569566763d7b8a",
   "outputs": [],
   "execution_count": null
  },
  {
   "metadata": {},
   "cell_type": "markdown",
   "source": "",
   "id": "4effa824e01e5387"
  },
  {
   "metadata": {},
   "cell_type": "markdown",
   "source": [
    "## 1 sor vs. Több sor\n",
    "- Alapvetően 1 sor = 1 parancs\n",
    "- Egy parancs különböző részei közép szóközt rakunk! -> olvashatóság!\n",
    "- A túl hosszú sorok kerülendőek (PEP8: max. 80-120 karakter)\n",
    "- Előfordul, hogy egy parancs ennél hosszabb → sortörés\n",
    "    - `\\ `\n",
    "    - `( ... )`"
   ],
   "id": "4a150d5eb41fa2d0"
  },
  {
   "metadata": {},
   "cell_type": "code",
   "source": [
    "a = 1 + 2 + 3 + 4 + 5 + \\\n",
    "    6 + 7 + 8 + 9 + 10"
   ],
   "id": "4de23da0f827b773",
   "outputs": [],
   "execution_count": null
  },
  {
   "metadata": {},
   "cell_type": "code",
   "source": [
    "b = (1 + 2 + 3 + 4 + 5 +\n",
    "    6 + 7 + 8 + 9 + 10)"
   ],
   "id": "713470b1f8dccb90",
   "outputs": [],
   "execution_count": null
  },
  {
   "metadata": {},
   "cell_type": "markdown",
   "source": [
    "- Több parancs is lehet egy sorban (általában változó létrehozás)\n",
    "- Egy parancs különböző részei közé szóközt rakunk! → olvashatóság!"
   ],
   "id": "7f92f3ecd552ee80"
  },
  {
   "metadata": {},
   "cell_type": "code",
   "source": [
    "c = 4; d = 5\n",
    "e, f, g, = 6, 7, 8"
   ],
   "id": "27b7a86b260ddf1e",
   "outputs": [],
   "execution_count": null
  },
  {
   "metadata": {},
   "cell_type": "markdown",
   "source": "",
   "id": "db5739439fc8bf5e"
  },
  {
   "metadata": {},
   "cell_type": "markdown",
   "source": [
    "## Megjegyzések / Kommentek\n",
    "- A kódjainkba írhatunk megjegyzéseket, melyek nem fognak lefutni\n",
    "- Miért? \n",
    "    - Megmagyarázza, hogy egy adott kódrészlet mit csinál\n",
    "    - Tagolja a kódot\n",
    "    - Mert 1 hét alatt elfelejtjük, hogy mit csinál a saját kódunk\n",
    "- 2 féle komment létezik:\n",
    "    - Egysoros (comment): `#`\n",
    "        - Rövid megjegyzés\n",
    "    - Többsoros (docstring): `”””   ...    ”””`\n",
    "        - Részletesebb dokumentáció egy adott kódrészlethez\n",
    "\n",
    "**!!!Mindig használjunk kommenteket!!!**\n"
   ],
   "id": "3904ef5b826bba07"
  },
  {
   "metadata": {},
   "cell_type": "code",
   "source": [
    "# Ez egy egysoros komment\n",
    "\"\"\"\n",
    "Ide pedig annyit írok,\n",
    "amennyit csak szeretnék.\n",
    "\"\"\""
   ],
   "id": "547ddc2c182c666c",
   "outputs": [],
   "execution_count": null
  },
  {
   "metadata": {},
   "cell_type": "markdown",
   "source": "",
   "id": "dd16797c2bcb1553"
  },
  {
   "metadata": {},
   "cell_type": "markdown",
   "source": [
    "# Objektumok & Azonosítók\n",
    "## Objects & Identifiers\n",
    "\n",
    "- A Python kizárólag objektumokkal és azonosítókkal dolgozik\n",
    "- Objektum: a számítógép memóriájának bizonyos adatokat és a hozzájuk kapcsolódó információkat egyaránt tartalmazó régiója\n",
    "- A Python-ban kvázi minden egy objektum:\n",
    "    - Típus (type)\n",
    "    - Azonosító (id) → a számítógép számára releváns\n",
    "\n",
    "**Változó név:** ahhoz, hogy el tudjuk érni a különböző objektumokat, változó neveket határozunk meg hozzájuk\n"
   ],
   "id": "b38174346dcb4c94"
  },
  {
   "metadata": {},
   "cell_type": "code",
   "source": [
    "variable = 10\n",
    "print(type(variable))\n",
    "print(id(variable))"
   ],
   "id": "55bf5fa016af511b",
   "outputs": [],
   "execution_count": null
  },
  {
   "metadata": {},
   "cell_type": "markdown",
   "source": [
    "## Változó nevek - Bevezetés\n",
    "- Az első karakter betű vagy ”_”\n",
    "- Utána: betű, számjegy, aláhúzás\n",
    "- Kis- és nagybetűk különböző jelentőséggel bírnak! \n",
    "    - `number = 1 ; numbeR = 10`\n",
    "\n",
    "**Ne használjunk:** \n",
    "- Olyan változók amelyek ”_”-sal kezdődnek vagy végződnek (ezek speciális jelentéssel bírnak)\n",
    "- Beépített változó neveket (pl. print, range, open) → felülírják az alap működést\n"
   ],
   "id": "6c63381272b36bb8"
  },
  {
   "metadata": {},
   "cell_type": "code",
   "source": [
    "# Futtatás után kernel restart\n",
    "print(10)\n",
    "print = 0\n",
    "print(10)"
   ],
   "id": "2c9579d521f18b90",
   "outputs": [],
   "execution_count": null
  },
  {
   "metadata": {},
   "cell_type": "markdown",
   "source": [
    "## Változó nevek - Tippek\n",
    "- A fejlesztési környezet sok mindenre felhívja a figyelmünket\n",
    "    - pl. az adott változó nevet már használtuk, elírtuk a változó nevét, nem definiáltunk egy változót, stb\n",
    "- Használjunk angol nyelvű változó neveket! (az angol ABC karaktereit)\n",
    "- Használjunk beszédes változó neveket! \n",
    "    - pl. `age` & `grade` az `a` & `g` helyett\n",
    "- A változó neveket kisbetűvel kezdjük\n",
    "- Többszavas változó nevek:\n",
    "    - Több féle is létezik: 1 kódban próbáljunk 1 félét használni\n",
    "        - Snakecase: `variable_one` → általában ezt használják Python-ban\n",
    "        - Camelcase: `variableOne`\n"
   ],
   "id": "3695c1083d1e8fd0"
  },
  {
   "metadata": {},
   "cell_type": "markdown",
   "source": [
    "# Objects & Identifiers\n",
    "## Típusok\n",
    "- A Python egy dinamikus programozási nyelv\n",
    "- A változóknak van típusa, de nem kell előre meghatározni\n",
    "- Az objektum típusa csak runtime közben releváns & lesz definiálva\n"
   ],
   "id": "8e3036bf86c27967"
  },
  {
   "metadata": {},
   "cell_type": "code",
   "source": [
    "pi = 3.14\n",
    "temp = pi\n",
    "pi = 'pi'"
   ],
   "id": "875bbdc027f72a5e",
   "outputs": [],
   "execution_count": null
  },
  {
   "metadata": {},
   "cell_type": "markdown",
   "source": [
    "## Alap változó típusok\n",
    "- Számok\n",
    "    - Egész számok: `int` (integer)\n",
    "    - Valós számok: `float` (floating point)\n",
    "    - Komplex számok: `complex` \n",
    "- Szöveg:\n",
    "    - String: `str`\n",
    "- Logikai változók\n",
    "    - Igaz / Hamis: `bool` (boolean)\n"
   ],
   "id": "57b4f8f11e557fb2"
  },
  {
   "metadata": {},
   "cell_type": "code",
   "source": [
    "integer = 1\n",
    "print(type(integer))"
   ],
   "id": "568b1e7a844b2ee3",
   "outputs": [],
   "execution_count": null
  },
  {
   "metadata": {},
   "cell_type": "code",
   "source": [
    "real_number = 1.1\n",
    "print(type(real_number))"
   ],
   "id": "68498b3100e964d2",
   "outputs": [],
   "execution_count": null
  },
  {
   "metadata": {},
   "cell_type": "code",
   "source": [
    "complex_number = 1 + 2j\n",
    "print(type(complex_number))"
   ],
   "id": "5d1657782c5d860f",
   "outputs": [],
   "execution_count": null
  },
  {
   "metadata": {},
   "cell_type": "code",
   "source": [
    "text = 'variable'\n",
    "print(type(text))"
   ],
   "id": "e455db7016a82537",
   "outputs": [],
   "execution_count": null
  },
  {
   "metadata": {},
   "cell_type": "code",
   "source": [
    "boolean = True\n",
    "print(type(boolean))"
   ],
   "id": "a7b7f4ca3c4bbdb9",
   "outputs": [],
   "execution_count": null
  },
  {
   "metadata": {},
   "cell_type": "code",
   "source": "print(isinstance(boolean, bool))",
   "id": "59fc7d1e36869b3",
   "outputs": [],
   "execution_count": null
  },
  {
   "metadata": {},
   "cell_type": "markdown",
   "source": "",
   "id": "afdae514f012a782"
  },
  {
   "metadata": {},
   "cell_type": "markdown",
   "source": [
    "# Operátorok\n",
    "## Alap operátorok"
   ],
   "id": "ccf94179d3f10b38"
  },
  {
   "metadata": {},
   "cell_type": "code",
   "source": [
    "x = 10\n",
    "y = 25"
   ],
   "id": "8e1927d6fe831613",
   "outputs": [],
   "execution_count": null
  },
  {
   "metadata": {},
   "cell_type": "code",
   "source": [
    "# Két szám összege\n",
    "x + y"
   ],
   "id": "d0990804f6e7fee1",
   "outputs": [],
   "execution_count": null
  },
  {
   "metadata": {},
   "cell_type": "code",
   "source": [
    "# Két szám különbsége\n",
    "x - y"
   ],
   "id": "f4bac929218cf020",
   "outputs": [],
   "execution_count": null
  },
  {
   "metadata": {},
   "cell_type": "code",
   "source": [
    "# Két szám szorzata\n",
    "x * y"
   ],
   "id": "678d41f39796ea30",
   "outputs": [],
   "execution_count": null
  },
  {
   "metadata": {},
   "cell_type": "code",
   "source": [
    "# Két szám hányadosa\n",
    "y / x"
   ],
   "id": "75b060f243608603",
   "outputs": [],
   "execution_count": null
  },
  {
   "metadata": {},
   "cell_type": "code",
   "source": [
    "# Két szám hányadosának egész része\n",
    "y // x"
   ],
   "id": "8f4b7eb909499c50",
   "outputs": [],
   "execution_count": null
  },
  {
   "metadata": {},
   "cell_type": "code",
   "source": [
    "# Modulo operátor: két szám hányadosának egész része utáni maradék\n",
    "y % x"
   ],
   "id": "2c536fc3beb878e0",
   "outputs": [],
   "execution_count": null
  },
  {
   "metadata": {},
   "cell_type": "code",
   "source": [
    "# Négyzetre emelés\n",
    "x ** x"
   ],
   "id": "32bee7af0d29c2e8",
   "outputs": [],
   "execution_count": null
  },
  {
   "metadata": {},
   "cell_type": "code",
   "source": [
    "# Negálás\n",
    "-x"
   ],
   "id": "8977355280e8bbb6",
   "outputs": [],
   "execution_count": null
  },
  {
   "metadata": {},
   "cell_type": "code",
   "source": [
    "# Abszolút érték\n",
    "abs(-x)"
   ],
   "id": "315c8c66e9e5910e",
   "outputs": [],
   "execution_count": null
  },
  {
   "metadata": {},
   "cell_type": "code",
   "source": [
    "# Egyenlőség vizsgálata\n",
    "x == y"
   ],
   "id": "fa74be12acd17292",
   "outputs": [],
   "execution_count": null
  },
  {
   "metadata": {},
   "cell_type": "code",
   "source": [
    "# Egyenlőtlenség vizsgálata\n",
    "x != y"
   ],
   "id": "fbba102de0ee8278",
   "outputs": [],
   "execution_count": null
  },
  {
   "metadata": {},
   "cell_type": "code",
   "source": [
    "# Két szám összehasonlítása\n",
    "print(x > y)\n",
    "print(x >= y)\n",
    "print(x < y)\n",
    "print(x <= y)"
   ],
   "id": "f3ec3c65baaca1b5",
   "outputs": [],
   "execution_count": null
  },
  {
   "metadata": {},
   "cell_type": "code",
   "source": [
    "# Kifejezések egyszerűsítése\n",
    "x = x + 2\n",
    "print(x)\n",
    "x += 2\n",
    "print(x)"
   ],
   "id": "d9671f62fa55f197",
   "outputs": [],
   "execution_count": null
  },
  {
   "metadata": {},
   "cell_type": "markdown",
   "source": [
    "## Precedencia\n",
    "A matematika szabályai szerint."
   ],
   "id": "382a948039be24d3"
  },
  {
   "metadata": {},
   "cell_type": "code",
   "source": "5 + 2 * 5",
   "id": "fbcea769e783509d",
   "outputs": [],
   "execution_count": null
  },
  {
   "metadata": {},
   "cell_type": "code",
   "source": "(5 + 2) * 5",
   "id": "148db37cfd607351",
   "outputs": [],
   "execution_count": null
  },
  {
   "metadata": {},
   "cell_type": "markdown",
   "source": "## Logikai operátorok",
   "id": "45edb8b3b80db4cd"
  },
  {
   "metadata": {},
   "cell_type": "code",
   "source": [
    "# Logikai \"és\"\n",
    "x < y and y % x == 5"
   ],
   "id": "3fb8bf6165988c7b",
   "outputs": [],
   "execution_count": null
  },
  {
   "metadata": {},
   "cell_type": "code",
   "source": [
    "# Logikai \"vagy\"\n",
    "x < y or y < x"
   ],
   "id": "df8dfa69d7806c40",
   "outputs": [],
   "execution_count": null
  },
  {
   "metadata": {},
   "cell_type": "code",
   "source": [
    "# Logikai negálás\n",
    "x < y and not(y % x == 5)"
   ],
   "id": "e6c6236174ffc8cc",
   "outputs": [],
   "execution_count": null
  },
  {
   "metadata": {},
   "cell_type": "markdown",
   "source": "",
   "id": "475b5524b39fb5ec"
  },
  {
   "metadata": {},
   "cell_type": "markdown",
   "source": [
    "# Névterek\n",
    "- Futás közben számon kell tartani az egyes objektumokhoz rendelt azonosítókat (pl. változókat)\n",
    "- A Python egyik legnagyobb előnye, hogy könnyen használhatunk mások által előre megírt kódokat → később\n",
    "- Saját kódunkat is „megoszthatjuk” különböző fileok között \n",
    "\n",
    "## Importálás - Fájlok között\n",
    "- Van egy my_file.py nevű fájlunk (.py = Python fájl)\n",
    "- Van egy `foo.py` nevű fájlunk \n",
    "    - Benne két változó: `obj1` és `obj2`\n",
    "\n",
    "\n",
    "- `foo.py`-ban lévő összes objektum importálása:\n",
    "    - `import foo` → `foo.obj1` és `foo.obj2`\n",
    "\n",
    "- Ha biztosak vagyunk benne, hogy a mi fájlunkban nem lesz `obj1` és `obj2` nevű objektum:\n",
    "    - `from foo import obj1, obj2` \n",
    "\n",
    "- Ha minden objektumot szeretnénk importálni, de nem `foo.obj1`-ként szeretnénk használni őket.\n",
    "    - (Nem ajánlott, mert könnyen felülírhatjuk az objektumokat a jelenlegi fájlunkban)\n",
    "    - `from foo import *`\n",
    "\n",
    "# Importálás - Beépített modulok\n",
    "- Sok beépített modul rendelkezésre áll, amik a legtöbbet használt alap funkciókat egyszerűen megvalósítják\n",
    "- A Python-nal együtt feltelepülnek\n"
   ],
   "id": "fcc4c722bb98078f"
  },
  {
   "metadata": {},
   "cell_type": "code",
   "source": [
    "import math\n",
    "print(math.pi)"
   ],
   "id": "dffb7824b16711ca",
   "outputs": [],
   "execution_count": null
  },
  {
   "metadata": {},
   "cell_type": "code",
   "source": [
    "import time\n",
    "print(time.time())"
   ],
   "id": "e00906f7e1acb36c",
   "outputs": [],
   "execution_count": null
  },
  {
   "metadata": {},
   "cell_type": "code",
   "source": [
    "import datetime\n",
    "print(datetime.datetime.now())"
   ],
   "id": "b3d698e7c982d9c0",
   "outputs": [],
   "execution_count": null
  },
  {
   "metadata": {},
   "cell_type": "code",
   "source": [
    "import os\n",
    "print(os.getcwd())"
   ],
   "id": "1244dcb25f1c1711",
   "outputs": [],
   "execution_count": null
  },
  {
   "metadata": {},
   "cell_type": "code",
   "source": [
    "import random\n",
    "print(random.random())\n",
    "print(random.randint(0, 10))"
   ],
   "id": "ad6e5f03a7b79562",
   "outputs": [],
   "execution_count": null
  },
  {
   "metadata": {},
   "cell_type": "markdown",
   "source": "",
   "id": "555e50996febc855"
  },
  {
   "metadata": {},
   "cell_type": "markdown",
   "source": [
    "# Stringek: Szöveges változók\n",
    "\n",
    "Többféle módon definiálhatjuk őket:"
   ],
   "id": "1d1bf9ad79112209"
  },
  {
   "metadata": {},
   "cell_type": "code",
   "source": [
    "text1 = 'Hello World!'\n",
    "text2 = \"Hello World!\"\n",
    "# Nem használják:\n",
    "text3 = \"\"\"Hello World!\"\"\""
   ],
   "id": "38fdcad5afe853e0",
   "outputs": [],
   "execution_count": null
  },
  {
   "metadata": {},
   "cell_type": "markdown",
   "source": [
    "Új sor operátor: `\\n`\n",
    "Tab operátor: `\\t`"
   ],
   "id": "ffa2f675cb57a76"
  },
  {
   "metadata": {},
   "cell_type": "code",
   "source": [
    "hello = \"Hello World!\"\n",
    "print(hello)\n",
    "\n",
    "hello = \"Hello \\n World!\"\n",
    "print(hello)\n",
    "\n",
    "hello = \"Hello \\t World!\"\n",
    "print(hello)"
   ],
   "id": "f37ea7df93d2e4e0",
   "outputs": [],
   "execution_count": null
  },
  {
   "metadata": {},
   "cell_type": "markdown",
   "source": "Szövegek összevonása: `+`",
   "id": "7902eb1e031461c6"
  },
  {
   "metadata": {},
   "cell_type": "code",
   "source": [
    "hello = 'Hello'\n",
    "world = ' World'\n",
    "mark = ' !'\n",
    "print(hello + world + mark)"
   ],
   "id": "5725b66420d0b1b2",
   "outputs": [],
   "execution_count": null
  },
  {
   "metadata": {},
   "cell_type": "markdown",
   "source": [
    "\n",
    "f-string: szöveg & változók „kombinálása\"\n"
   ],
   "id": "948d7d174adc3eb0"
  },
  {
   "metadata": {},
   "cell_type": "code",
   "source": [
    "batman = 12\n",
    "catwoman = 10\n",
    "print(f\"Batman has {batman} apples. Catwoman has {catwoman} apples. Together, they have {batman + catwoman} apples.\")"
   ],
   "id": "797a202ce29c4976",
   "outputs": [],
   "execution_count": null
  },
  {
   "metadata": {},
   "cell_type": "markdown",
   "source": "",
   "id": "e9c2b4bfe9d70958"
  },
  {
   "metadata": {},
   "cell_type": "markdown",
   "source": [
    "# Típuskonverizó & Kerekítés\n",
    "- Megváltoztathatjuk az egyes változók típusait\n",
    "- Kerekíthetünk őket adott tizedesjegy pontosságra (`round()`)\n",
    "- Int ↔︎ Float: `int(a)`, `float(a)`\n",
    "- Int/Float ↔︎ String: `str(a)`\n",
    "- Int/Float ↔︎ Boolean: `bool(a)`\n",
    "\n",
    "Int és Float közötti konverzió + Kerekítés"
   ],
   "id": "71eedd3ab93e510b"
  },
  {
   "metadata": {},
   "cell_type": "code",
   "source": [
    "x = 1\n",
    "y = 1.0\n",
    "print(type(x))\n",
    "print(type(y))"
   ],
   "id": "907ce21b89c6a9d8",
   "outputs": [],
   "execution_count": null
  },
  {
   "metadata": {},
   "cell_type": "code",
   "source": [
    "z = x + y \n",
    "print(type(z))"
   ],
   "id": "f1fb53040c66baff",
   "outputs": [],
   "execution_count": null
  },
  {
   "metadata": {},
   "cell_type": "code",
   "source": [
    "x = 9.54\n",
    "y = 19.19\n",
    "print(int(x))\n",
    "print(int(y))"
   ],
   "id": "1d5cd9935d798089",
   "outputs": [],
   "execution_count": null
  },
  {
   "metadata": {},
   "cell_type": "code",
   "source": [
    "gravity = 9.8065\n",
    "print(round(gravity, 2))\n",
    "print(round(gravity))\n",
    "print(type(round(gravity)))"
   ],
   "id": "e104237886815ca8",
   "outputs": [],
   "execution_count": null
  },
  {
   "metadata": {},
   "cell_type": "markdown",
   "source": "Int/Float és Stringek közötti konverzió",
   "id": "3da8a53cafa2c674"
  },
  {
   "metadata": {},
   "cell_type": "code",
   "source": [
    "x = 11\n",
    "y = '22'"
   ],
   "id": "eb3c2280cb5d1aa",
   "outputs": [],
   "execution_count": null
  },
  {
   "metadata": {},
   "cell_type": "code",
   "source": "print(x + y)",
   "id": "3c8fef7b496beab6",
   "outputs": [],
   "execution_count": null
  },
  {
   "metadata": {},
   "cell_type": "code",
   "source": "print(x + int(y))",
   "id": "ce2e0fd0e1928fb9",
   "outputs": [],
   "execution_count": null
  },
  {
   "metadata": {},
   "cell_type": "code",
   "source": "z = input(\"Írj be egy számot:\")",
   "id": "ae430b1c1a53f059",
   "outputs": [],
   "execution_count": null
  },
  {
   "metadata": {},
   "cell_type": "code",
   "source": "print(x + z)",
   "id": "8194902608c482af",
   "outputs": [],
   "execution_count": null
  },
  {
   "metadata": {},
   "cell_type": "code",
   "source": "print(x + int(z))",
   "id": "4373740d127605da",
   "outputs": [],
   "execution_count": null
  },
  {
   "metadata": {},
   "cell_type": "code",
   "source": "z = input(\"Írj be egy szöveget:\")",
   "id": "b1d5681682a8fa81",
   "outputs": [],
   "execution_count": null
  },
  {
   "metadata": {},
   "cell_type": "code",
   "source": "print(x + int(z))",
   "id": "e0cea469b00db949",
   "outputs": [],
   "execution_count": null
  },
  {
   "metadata": {},
   "cell_type": "code",
   "source": [
    "piece = 1\n",
    "thing = 'alma'"
   ],
   "id": "e472ed4d85068e7",
   "outputs": [],
   "execution_count": null
  },
  {
   "metadata": {},
   "cell_type": "code",
   "source": "print(piece + thing)",
   "id": "1c76619826542e84",
   "outputs": [],
   "execution_count": null
  },
  {
   "metadata": {},
   "cell_type": "code",
   "source": "print(str(piece) + thing)",
   "id": "294e796010d9469d",
   "outputs": [],
   "execution_count": null
  },
  {
   "metadata": {},
   "cell_type": "markdown",
   "source": "Int/Float és Boolean között",
   "id": "bc2f866badc26838"
  },
  {
   "metadata": {},
   "cell_type": "code",
   "source": [
    "x = 0\n",
    "y = 1"
   ],
   "id": "a266e13648a1088f",
   "outputs": [],
   "execution_count": null
  },
  {
   "metadata": {},
   "cell_type": "code",
   "source": "print(bool(x), bool(y))",
   "id": "eba8c8be9738b553",
   "outputs": [],
   "execution_count": null
  },
  {
   "metadata": {},
   "cell_type": "code",
   "source": [
    "x = 0.0\n",
    "y = 10"
   ],
   "id": "3e0c4f5b0cd35a4d",
   "outputs": [],
   "execution_count": null
  },
  {
   "metadata": {},
   "cell_type": "code",
   "source": "print(bool(x), bool(y))",
   "id": "7b25463e97e03716",
   "outputs": [],
   "execution_count": null
  },
  {
   "metadata": {},
   "cell_type": "code",
   "source": [
    "x = True\n",
    "y = False"
   ],
   "id": "cb17d06dd6948ee2",
   "outputs": [],
   "execution_count": null
  },
  {
   "metadata": {},
   "cell_type": "code",
   "source": "print(int(x), float(y))",
   "id": "a0d806df70b72d47",
   "outputs": [],
   "execution_count": null
  },
  {
   "metadata": {},
   "cell_type": "markdown",
   "source": "",
   "id": "c6555815ffd97145"
  },
  {
   "metadata": {},
   "cell_type": "markdown",
   "source": [
    "# Hibakezelés\n",
    "- Alapvetően arra törekedünk, hogy hibátlan kódot írjunk\n",
    "- DE..\n",
    "- A hiba nem mindig tőlünk függ\n",
    "- Általunk elrontott dolgokra is felkészülhetünk\n",
    "\n",
    "Try / except"
   ],
   "id": "8ecdfe815e27d607"
  },
  {
   "metadata": {},
   "cell_type": "code",
   "source": [
    "try:\n",
    "    x = int(input(\"Írj be egy számot:\"))\n",
    "    print(\"Kössz. Ez egy szám.\")\n",
    "except ValueError:\n",
    "    print(\"Ez nem egy szám.. :c\")"
   ],
   "id": "c29d7d3db1d69342",
   "outputs": [],
   "execution_count": null
  },
  {
   "metadata": {},
   "cell_type": "code",
   "source": [
    "try:\n",
    "    x = int(input(\"Írj be egy számot:\"))\n",
    "    print(\"Kössz. Ez egy szám.\")\n",
    "except ValueError:\n",
    "    raise ValueError(\"Hát ez nem szám...\")"
   ],
   "id": "7c69a9a11d8c7f28",
   "outputs": [],
   "execution_count": null
  },
  {
   "metadata": {},
   "cell_type": "markdown",
   "source": [
    "Assert\n",
    "- Hibát dob, ha egy adott feltétel hamis\n",
    "- Pl. a kódunk adott paraméterek alapján működik, amiket nekünk kell megadni, azonban adott paraméter kombinációk nem értelmezhetőek"
   ],
   "id": "f0cde25592fe2798"
  },
  {
   "metadata": {},
   "cell_type": "code",
   "source": "age = 18",
   "id": "74ea31ae53a9a1ca",
   "outputs": [],
   "execution_count": null
  },
  {
   "metadata": {},
   "cell_type": "code",
   "source": [
    "assert age < 100, \"Nem játszhatsz Lego-val.\"\n",
    "print(\"Tessék, itt egy doboz Lego.\")"
   ],
   "id": "5778600f3786603e",
   "outputs": [],
   "execution_count": null
  },
  {
   "metadata": {},
   "cell_type": "code",
   "source": [
    "assert age > 18, \"Túl fiatal vagy.\"\n",
    "print(\"Tessék, itt egy sör.\")"
   ],
   "id": "f5859ca2328d4df7",
   "outputs": [],
   "execution_count": null
  }
 ],
 "metadata": {
  "kernelspec": {
   "display_name": "Python 3",
   "language": "python",
   "name": "python3"
  },
  "language_info": {
   "codemirror_mode": {
    "name": "ipython",
    "version": 2
   },
   "file_extension": ".py",
   "mimetype": "text/x-python",
   "name": "python",
   "nbconvert_exporter": "python",
   "pygments_lexer": "ipython2",
   "version": "2.7.6"
  }
 },
 "nbformat": 4,
 "nbformat_minor": 5
}
