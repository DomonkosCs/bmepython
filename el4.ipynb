{
 "cells": [
  {
   "cell_type": "code",
   "execution_count": 6,
   "id": "fa8a5ff1-1f5e-465b-9265-7913eb4b1141",
   "metadata": {},
   "outputs": [],
   "source": [
    "from metakernel import register_ipython_magics\n",
    "register_ipython_magics()"
   ]
  },
  {
   "cell_type": "markdown",
   "id": "9d2522d9-cf81-4c93-85c3-aea40bd5e05e",
   "metadata": {},
   "source": [
    "Tematika\n",
    "\n",
    "4. For ciklus, összetett adatstruktúrák\n",
    "\t1. dictionary (kell a kwargshoz) \n",
    "\t\t1. in operator\n",
    "\t2. set\n",
    "\t3. for\n",
    "\t\t1. iterálás adatstruktúrákon: string, list, ...\n",
    "\t\t2. keresés, alap algoritmusok\n",
    "\t\t3. iterálás indexekkel: range\n",
    "\t\t4. zip, enumerate\n",
    "\t4. list comprehension \n",
    "\t\t1. if-fel együtt\n",
    "\t\t2. említésképp nested list comprehension\n",
    "\t5. debug\n",
    "\t\t1. watch window\n",
    "\t\t2. for ciklusba belépés, ciklikusság bemutatása léptetéseel\n",
    "\t6. algelméletes példák\n",
    "\t\t1. maximum keresés\n",
    "\t\t2. sorbarendezés (valamelyik négyzetes komplexitású algóval, pl. bubble sort)\n",
    "\t\t3. (ennek a repetitivitásával lehet átvezetni a függvényekre)"
   ]
  },
  {
   "cell_type": "markdown",
   "id": "017a8fc8-dc7a-453f-93b2-a63191a9b274",
   "metadata": {},
   "source": [
    "## Dictionary"
   ]
  },
  {
   "cell_type": "markdown",
   "id": "29568916-cf7f-4c14-816d-97dac506ad29",
   "metadata": {},
   "source": [
    "- kulcs-érték párok\n",
    "- ellentétben a listával, itt a értékeket nem a pozíciójuk (indexük) alapján érjük el, hanem a kulcsuk alapján\n",
    "- maga a dictionary megváltoztatható (mutábilis), de a kulcsoknak immutáblilsnek, és egyedinek kell lenniük"
   ]
  },
  {
   "cell_type": "code",
   "execution_count": 2,
   "id": "7bc001db-1fee-4108-b37a-b24fff283750",
   "metadata": {
    "scrolled": false
   },
   "outputs": [
    {
     "data": {
      "text/html": [
       "\n",
       "        <iframe\n",
       "            width=\"100%\"\n",
       "            height=\"500\"\n",
       "            src=\"https://pythontutor.com/iframe-embed.html#code=student%20%3D%20%7B%22n%C3%A9v%22%3A%20%22B%C3%A9la%22%2C%20%22kor%22%3A%2022%2C%20%22v%C3%A9ralkoholszint%22%3A%200.002%7D%0Aname%20%3D%20student%5B%22n%C3%A9v%22%5D%0A&origin=opt-frontend.js&cumulative=false&heapPrimitives=false&textReferences=false&py=3&rawInputLstJSON=%5B%5D&curInstr=0&codeDivWidth=350&codeDivHeight=400\"\n",
       "            frameborder=\"0\"\n",
       "            allowfullscreen\n",
       "            \n",
       "        ></iframe>\n",
       "        "
      ],
      "text/plain": [
       "<IPython.lib.display.IFrame at 0x103f913d0>"
      ]
     },
     "metadata": {},
     "output_type": "display_data"
    }
   ],
   "source": [
    "%%tutor\n",
    "student = {\"név\": \"Béla\", \"kor\": 22, \"véralkoholszint\": 0.002}\n",
    "name = student[\"név\"]"
   ]
  },
  {
   "cell_type": "code",
   "execution_count": 3,
   "id": "d64885ac-9e50-494d-9500-44e1e1a8f42f",
   "metadata": {},
   "outputs": [
    {
     "data": {
      "text/html": [
       "\n",
       "        <iframe\n",
       "            width=\"100%\"\n",
       "            height=\"500\"\n",
       "            src=\"https://pythontutor.com/iframe-embed.html#code=studentA%20%3D%20%7B%22n%C3%A9v%22%3A%20%22B%C3%A9la%22%2C%20%22kor%22%3A%2022%2C%20%22v%C3%A9ralkoholszint%22%3A%200.002%7D%0AstudentB%20%3D%20%7B%22n%C3%A9v%22%3A%20%22L%C3%A1szl%C3%B3%22%2C%20%22kor%22%3A%2021%2C%20%22v%C3%A9ralkoholszint%22%3A%200%7D%0A%0Astudents%20%3D%20%7B%22iszik%22%3A%20studentA%2C%20%22nem%20iszik%22%3A%20studentB%7D%0Aprint%28students%29%0A&origin=opt-frontend.js&cumulative=false&heapPrimitives=false&textReferences=false&py=3&rawInputLstJSON=%5B%5D&curInstr=0&codeDivWidth=350&codeDivHeight=400\"\n",
       "            frameborder=\"0\"\n",
       "            allowfullscreen\n",
       "            \n",
       "        ></iframe>\n",
       "        "
      ],
      "text/plain": [
       "<IPython.lib.display.IFrame at 0x103fa0730>"
      ]
     },
     "metadata": {},
     "output_type": "display_data"
    }
   ],
   "source": [
    "%%tutor\n",
    "studentA = {\"név\": \"Béla\", \"kor\": 22, \"véralkoholszint\": 0.002}\n",
    "studentB = {\"név\": \"László\", \"kor\": 21, \"véralkoholszint\": 0}\n",
    "\n",
    "students = {\"iszik\": studentA, \"nem iszik\": studentB}\n",
    "print(students)"
   ]
  },
  {
   "cell_type": "code",
   "execution_count": 4,
   "id": "50b95d48-5a87-41c9-9f59-37b179ae6f24",
   "metadata": {},
   "outputs": [
    {
     "name": "stderr",
     "output_type": "stream",
     "text": [
      "Traceback (most recent call last):\n",
      "  File \"/var/folders/qc/rczznb9n5b5fkzyn7sbx04cr0000gn/T/ipykernel_36611/2224098357.py\", line 6, in <module>\n",
      "    student[\"lakhely\"]\n",
      "KeyError: 'lakhely'\n"
     ]
    }
   ],
   "source": [
    "# student[\"lakhely\"]: KeyError-t dob\n",
    "student = {\"név\": \"Béla\", \"kor\": 22, \"véralkoholszint\": 0.002}\n",
    "\n",
    "import traceback\n",
    "try:\n",
    "    student[\"lakhely\"]\n",
    "except KeyError:\n",
    "    traceback.print_exc()\n"
   ]
  },
  {
   "cell_type": "markdown",
   "id": "d1ce24c0-a79d-4486-a833-bed470330094",
   "metadata": {},
   "source": [
    "`dictionary.get(key,default=None)`"
   ]
  },
  {
   "cell_type": "code",
   "execution_count": 5,
   "id": "9b975c79-d746-4a92-8753-88433df16bc7",
   "metadata": {},
   "outputs": [
    {
     "name": "stdout",
     "output_type": "stream",
     "text": [
      "None\n",
      "Budapest\n"
     ]
    }
   ],
   "source": [
    "# a .get függvény: ha nem vagyunk biztosak abban, hogy a kulcs megtalálható-e\n",
    "print(student.get(\"lakhely\"))\n",
    "print(student.get(\"lakhely\",\"Budapest\"))"
   ]
  },
  {
   "cell_type": "code",
   "execution_count": 6,
   "id": "6fe59108-bda3-4c40-82be-84fb350a3ae2",
   "metadata": {},
   "outputs": [
    {
     "name": "stdout",
     "output_type": "stream",
     "text": [
      "None\n"
     ]
    }
   ],
   "source": [
    "if \"lakhely\" in student.keys():\n",
    "    print(student[\"lakhely\"])\n",
    "else:\n",
    "    print(None)"
   ]
  },
  {
   "cell_type": "code",
   "execution_count": 7,
   "id": "07f865f8-b7ef-48f0-92f8-81b8c7c37c72",
   "metadata": {},
   "outputs": [
    {
     "name": "stdout",
     "output_type": "stream",
     "text": [
      "unhashable type: 'list'\n"
     ]
    }
   ],
   "source": [
    "# Kulcs csak nem megváltoztatható (immutalbe) objektum lehet\n",
    "key_list = [1]\n",
    "try:\n",
    "    my_dict = {key_list: \"egy\"}\n",
    "except TypeError as e:\n",
    "    print(e)"
   ]
  },
  {
   "cell_type": "code",
   "execution_count": 8,
   "id": "45f59fc2-77d2-4340-9243-8c3abafcc1e6",
   "metadata": {},
   "outputs": [
    {
     "data": {
      "text/plain": [
       "{'egy': [1]}"
      ]
     },
     "execution_count": 8,
     "metadata": {},
     "output_type": "execute_result"
    }
   ],
   "source": [
    "# Fordítva természetesen megy (mivel a string immutable)\n",
    "my_dict = {\"egy\": key_list}\n",
    "my_dict"
   ]
  },
  {
   "cell_type": "markdown",
   "id": "aef232ce-24d7-4f84-95eb-1f251ee04162",
   "metadata": {},
   "source": [
    "## Set"
   ]
  },
  {
   "cell_type": "code",
   "execution_count": 9,
   "id": "824c8550-f621-48bd-b8df-0db0c28c11ab",
   "metadata": {},
   "outputs": [],
   "source": [
    "my_set1 = {1,2,3,4,\"alma\",1j}\n",
    "my_set2 = {1,2,5,6,\"körte\"}\n",
    "my_set1.add(5)"
   ]
  },
  {
   "cell_type": "code",
   "execution_count": 10,
   "id": "2864ab06-cf99-4567-9d9b-1768ed470b1b",
   "metadata": {},
   "outputs": [
    {
     "data": {
      "text/plain": [
       "{1, 1j, 2, 3, 4, 5, 'alma'}"
      ]
     },
     "execution_count": 10,
     "metadata": {},
     "output_type": "execute_result"
    }
   ],
   "source": [
    "my_set1.add(5)\n",
    "my_set1\n",
    "# figyeljük meg, hogy a kiíratási sorrend más, mint az inicializáskor"
   ]
  },
  {
   "cell_type": "code",
   "execution_count": 11,
   "id": "4121ef0b-bfcb-4d1a-b45f-599e7a8b1319",
   "metadata": {},
   "outputs": [
    {
     "name": "stdout",
     "output_type": "stream",
     "text": [
      "'set' object is not subscriptable\n"
     ]
    }
   ],
   "source": [
    "try: \n",
    "    my_set1[1]\n",
    "except Exception as e:\n",
    "    print(e)"
   ]
  },
  {
   "cell_type": "markdown",
   "id": "5124c29f-afcb-43d1-bb3f-7d445bf5c825",
   "metadata": {},
   "source": [
    "`set`-ben nincs sorrendiség definiálva, az elemek helyét az értékük határozza meg. Mi van, ha 2 elem értéke ugyanaz?"
   ]
  },
  {
   "cell_type": "code",
   "execution_count": 12,
   "id": "ca49368f-412c-49e1-b68c-d4034b607b3a",
   "metadata": {},
   "outputs": [
    {
     "data": {
      "text/plain": [
       "{1, 1j, 2, 3, 4, 5, 'alma'}"
      ]
     },
     "execution_count": 12,
     "metadata": {},
     "output_type": "execute_result"
    }
   ],
   "source": [
    "my_set1.add(1)\n",
    "my_set1"
   ]
  },
  {
   "cell_type": "markdown",
   "id": "a9bda96b-f856-41d2-908d-300d68d8f1e9",
   "metadata": {},
   "source": [
    "Nem történik \"semmi\", nem lehet két elem értéke ugyanaz. "
   ]
  },
  {
   "cell_type": "markdown",
   "id": "c9fd5177-8e8f-44b8-af0e-95490457a2b3",
   "metadata": {},
   "source": [
    "Mi van akkor, ha megváltoztatható (mutábilis) adattípust teszünk a `set`-be? Nem lehet: `TypeError`. Szorgalmi: mi lenne a probléma azzal, ha ezt a műveletet engedné az interpreter? Mi az a `hash`, és a `hash table`."
   ]
  },
  {
   "cell_type": "code",
   "execution_count": 13,
   "id": "fb851eab-de6e-4daf-9d45-1403e022e179",
   "metadata": {},
   "outputs": [
    {
     "name": "stdout",
     "output_type": "stream",
     "text": [
      "unhashable type: 'list'\n"
     ]
    }
   ],
   "source": [
    "my_list = [1,2,3]\n",
    "try:\n",
    "    my_set_list = {my_list}\n",
    "except TypeError as e:\n",
    "    print(e)"
   ]
  },
  {
   "cell_type": "markdown",
   "id": "49bf128d-6d57-482a-beee-a6afe9c2626f",
   "metadata": {},
   "source": [
    "Egy-két alap halmazművelet"
   ]
  },
  {
   "cell_type": "code",
   "execution_count": 14,
   "id": "d69752cc-a146-4efc-be6d-0443246ebb0f",
   "metadata": {
    "scrolled": false
   },
   "outputs": [
    {
     "data": {
      "text/html": [
       "\n",
       "        <iframe\n",
       "            width=\"100%\"\n",
       "            height=\"500\"\n",
       "            src=\"https://pythontutor.com/iframe-embed.html#code=my_set1%20%3D%20%7B1%2C2%2C3%2C4%2C%22alma%22%2C1j%2B2%7D%0Amy_set2%20%3D%20%7B1%2C2%2C5%2C6%2C%22k%C3%B6rte%22%7D%0Amy_set_union%20%3D%20my_set1.union%28my_set2%29%0Amy_set_inter%20%3D%20my_set1.intersection%28my_set2%29%0A&origin=opt-frontend.js&cumulative=false&heapPrimitives=false&textReferences=false&py=3&rawInputLstJSON=%5B%5D&curInstr=0&codeDivWidth=350&codeDivHeight=400\"\n",
       "            frameborder=\"0\"\n",
       "            allowfullscreen\n",
       "            \n",
       "        ></iframe>\n",
       "        "
      ],
      "text/plain": [
       "<IPython.lib.display.IFrame at 0x103fb5880>"
      ]
     },
     "metadata": {},
     "output_type": "display_data"
    }
   ],
   "source": [
    "%%tutor\n",
    "my_set1 = {1,2,3,4,\"alma\",1j+2}\n",
    "my_set2 = {1,2,5,6,\"körte\"}\n",
    "my_set_union = my_set1.union(my_set2)\n",
    "my_set_inter = my_set1.intersection(my_set2)"
   ]
  },
  {
   "cell_type": "markdown",
   "id": "609160f5-e13a-43c3-9488-b70da4cd1f71",
   "metadata": {},
   "source": [
    "Trükk: távolítsunk el duplikátumokat egy listából"
   ]
  },
  {
   "cell_type": "code",
   "execution_count": 15,
   "id": "dd635af2-6172-46b7-a785-9e9cf54a76b2",
   "metadata": {},
   "outputs": [
    {
     "name": "stdout",
     "output_type": "stream",
     "text": [
      "[1, 2, 3, 4, 5, 6]\n"
     ]
    }
   ],
   "source": [
    "list_with_dupl = [1,4,4,5,3,3,2,1,3,6]\n",
    "list_undupl_set = list(set(list_with_dupl))\n",
    "print(list_undupl_set)"
   ]
  },
  {
   "cell_type": "markdown",
   "id": "3d2f7aad",
   "metadata": {},
   "source": [
    "A `set`-ek másik nagy előnye: a keresés időigénye független a `set` elemeinek számától, $\\mathcal{O}(1)$ az időkomplexitása, ami a listákban ez az elemszámtól függ: $\\mathcal{O}(N)$, mivel végig kell iterálni az elemeken."
   ]
  },
  {
   "cell_type": "code",
   "execution_count": 16,
   "id": "13d0f465-595c-48b7-869e-c57f71485302",
   "metadata": {},
   "outputs": [
    {
     "data": {
      "text/plain": [
       "True"
      ]
     },
     "execution_count": 16,
     "metadata": {},
     "output_type": "execute_result"
    }
   ],
   "source": [
    "upper_limit = 1000000\n",
    "my_list = list(range(upper_limit))\n",
    "\n",
    "my_element = upper_limit-1\n",
    "element_is_in = False\n",
    "\n",
    "for e in my_list:\n",
    "    if e == my_element:\n",
    "        element_is_in = True\n",
    "\n",
    "element_is_in"
   ]
  },
  {
   "cell_type": "code",
   "execution_count": 17,
   "id": "f25f98ca-b3e7-4d78-b0b6-292b6889d184",
   "metadata": {},
   "outputs": [
    {
     "data": {
      "text/plain": [
       "True"
      ]
     },
     "execution_count": 17,
     "metadata": {},
     "output_type": "execute_result"
    }
   ],
   "source": [
    "element_is_in = my_element in my_list\n",
    "element_is_in"
   ]
  },
  {
   "cell_type": "code",
   "execution_count": 18,
   "id": "b8b691fa-dbe4-40b9-bb7b-66e7a55d05a6",
   "metadata": {},
   "outputs": [
    {
     "name": "stdout",
     "output_type": "stream",
     "text": [
      "6.47 ms ± 37.6 µs per loop (mean ± std. dev. of 7 runs, 100 loops each)\n"
     ]
    }
   ],
   "source": [
    "%timeit my_element in my_list"
   ]
  },
  {
   "cell_type": "code",
   "execution_count": 19,
   "id": "e3fda388-8232-48ae-a03a-4fce6ccd5bce",
   "metadata": {},
   "outputs": [
    {
     "data": {
      "text/plain": [
       "True"
      ]
     },
     "execution_count": 19,
     "metadata": {},
     "output_type": "execute_result"
    }
   ],
   "source": [
    "my_set = set(my_list) # konvertáljuk át\n",
    "my_element in my_set"
   ]
  },
  {
   "cell_type": "code",
   "execution_count": 20,
   "id": "221df6a7-b6c1-4e45-a00b-35d723418be9",
   "metadata": {},
   "outputs": [
    {
     "name": "stdout",
     "output_type": "stream",
     "text": [
      "31.5 ns ± 0.526 ns per loop (mean ± std. dev. of 7 runs, 10,000,000 loops each)\n"
     ]
    }
   ],
   "source": [
    "%timeit my_element in my_set"
   ]
  },
  {
   "cell_type": "markdown",
   "id": "8c322f46-08d7-43af-9445-6b1214110c19",
   "metadata": {},
   "source": [
    "## For ciklus"
   ]
  },
  {
   "cell_type": "code",
   "execution_count": 3,
   "id": "62fa0f86-cabb-45a9-a2f8-73ab742c3706",
   "metadata": {},
   "outputs": [
    {
     "data": {
      "text/plain": [
       "range(0, 9)"
      ]
     },
     "execution_count": 3,
     "metadata": {},
     "output_type": "execute_result"
    }
   ],
   "source": [
    "# A range objektum: végig lehet rajta iterálni\n",
    "start = 0\n",
    "stop = 9 # ez már nem kerül bele!\n",
    "step = 1\n",
    "my_range = range(start,stop,step)\n",
    "my_range"
   ]
  },
  {
   "cell_type": "code",
   "execution_count": 4,
   "id": "5c1085b6-10ef-46be-80f3-942c6119ab13",
   "metadata": {},
   "outputs": [
    {
     "data": {
      "text/plain": [
       "[0, 1, 2, 3, 4, 5, 6, 7, 8]"
      ]
     },
     "execution_count": 4,
     "metadata": {},
     "output_type": "execute_result"
    }
   ],
   "source": [
    "list(my_range)"
   ]
  },
  {
   "cell_type": "code",
   "execution_count": 17,
   "id": "a4c4184e-8c01-4721-8dae-e8ca848f4d7b",
   "metadata": {},
   "outputs": [
    {
     "name": "stdout",
     "output_type": "stream",
     "text": [
      "0 1 2 3 4 5 6 7 8 "
     ]
    }
   ],
   "source": [
    "for i in range(9):\n",
    "    print(i, end=' ') # end=' ': ne új sorba kerüljenek a kiíratások"
   ]
  },
  {
   "cell_type": "code",
   "execution_count": 125,
   "id": "74adc45d-6f1b-4662-bbb1-c30a15910262",
   "metadata": {},
   "outputs": [
    {
     "name": "stdout",
     "output_type": "stream",
     "text": [
      "a\n",
      "b\n",
      "c\n",
      "d\n",
      "e\n",
      "f\n",
      "g\n"
     ]
    }
   ],
   "source": [
    "for char in \"abcdefg\":\n",
    "    print(char)"
   ]
  },
  {
   "cell_type": "code",
   "execution_count": 128,
   "id": "24bc4dd4",
   "metadata": {},
   "outputs": [
    {
     "name": "stdout",
     "output_type": "stream",
     "text": [
      "0 a\n",
      "1 b\n",
      "2 c\n",
      "3 d\n",
      "4 e\n",
      "5 f\n",
      "6 g\n",
      "A ciklus végén a ciklusváltozók megmaradnak:\n",
      "6 g\n"
     ]
    }
   ],
   "source": [
    "# Ha szükségünk lenne az indexre is:\n",
    "for idx,char in enumerate(\"abcdefg\"):\n",
    "    print(idx,char)\n",
    "\n",
    "print(\"A ciklus végén a ciklusváltozók megmaradnak:\")\n",
    "print(idx,char)"
   ]
  },
  {
   "cell_type": "code",
   "execution_count": 140,
   "id": "a227542e",
   "metadata": {},
   "outputs": [
    {
     "data": {
      "text/html": [
       "\n",
       "        <iframe\n",
       "            width=\"100%\"\n",
       "            height=\"500\"\n",
       "            src=\"https://pythontutor.com/iframe-embed.html#code=%23%20Mi%20van%20akkor%2C%20ha%20egyszerre%20t%C3%B6bb%20objektumon%20szeretn%C3%A9nk%20v%C3%A9gigiter%C3%A1lni%3F%20%0Acapitals%20%3D%20%28%22A%22%2C%20%22B%22%2C%20%22C%22%2C%20%22D%22%29%0Alowers%20%3D%20%28%22a%22%2C%20%22b%22%2C%20%22c%22%2C%20%22d%22%29%0A%0Afor%20cap%2Clow%20in%20zip%28capitals%2Clowers%29%3A%20%0A%20%20%20%20print%28cap%2Clow%29%0A&origin=opt-frontend.js&cumulative=false&heapPrimitives=false&textReferences=false&py=3&rawInputLstJSON=%5B%5D&curInstr=0&codeDivWidth=350&codeDivHeight=400\"\n",
       "            frameborder=\"0\"\n",
       "            allowfullscreen\n",
       "            \n",
       "        ></iframe>\n",
       "        "
      ],
      "text/plain": [
       "<IPython.lib.display.IFrame at 0x120c4c8e0>"
      ]
     },
     "metadata": {},
     "output_type": "display_data"
    }
   ],
   "source": [
    "%%tutor\n",
    "# Mi van akkor, ha egyszerre több objektumon szeretnénk végigiterálni? \n",
    "capitals = (\"A\", \"B\", \"C\", \"D\")\n",
    "lowers = (\"a\", \"b\", \"c\", \"d\")\n",
    "\n",
    "for cap,low in zip(capitals,lowers): \n",
    "    print(cap,low)"
   ]
  },
  {
   "cell_type": "markdown",
   "id": "7c4c87b3-32fb-4096-ae87-9224fecf7a62",
   "metadata": {},
   "source": [
    "Adott két lista `list1` és `list1`. Távolítsuk el azokat az elemeket `list1`-ből, amik `list2`-ben benne vannak. "
   ]
  },
  {
   "cell_type": "code",
   "execution_count": 22,
   "id": "7c6002b1-a3b7-48ad-bcf7-7e4a6b152c21",
   "metadata": {
    "scrolled": true
   },
   "outputs": [
    {
     "name": "stdout",
     "output_type": "stream",
     "text": [
      "Eredmény, amire számítunk: ['', '']\n",
      "Eredmény, amit kapunk: ['B', 'C', 'D']\n"
     ]
    }
   ],
   "source": [
    "list1 = [\"A\",\"B\",\"C\",\"D\"]\n",
    "list2 = [\"A\",\"B\",\"E\",\"F\"]\n",
    "\n",
    "for element in list1:\n",
    "    if element in list2:\n",
    "        list1.remove(element)\n",
    "\n",
    "print(\"Eredmény, amire számítunk: ['', '']\")\n",
    "print(f\"Eredmény, amit kapunk: {list1}\")"
   ]
  },
  {
   "cell_type": "markdown",
   "id": "5dc19f2c-f903-432e-a088-de40d7fa970a",
   "metadata": {},
   "source": [
    "Mi történhetett? Vizsáljuk meg közelebbről:"
   ]
  },
  {
   "cell_type": "code",
   "execution_count": 23,
   "id": "fb29fcef-e012-4c9d-8b5f-ad0d413a26d5",
   "metadata": {},
   "outputs": [
    {
     "data": {
      "text/html": [
       "\n",
       "        <iframe\n",
       "            width=\"100%\"\n",
       "            height=\"500\"\n",
       "            src=\"https://pythontutor.com/iframe-embed.html#code=%0Alist1%20%3D%20%5B%22A%22%2C%22B%22%2C%22C%22%2C%22D%22%5D%0Alist2%20%3D%20%5B%22A%22%2C%22B%22%2C%22E%22%2C%22F%22%5D%0A%0Afor%20index%2Celement%20in%20enumerate%28list1%29%3A%0A%20%20%20%20print%28index%29%0A%20%20%20%20if%20element%20in%20list2%3A%0A%20%20%20%20%20%20%20%20list1.remove%28element%29%0A&origin=opt-frontend.js&cumulative=false&heapPrimitives=false&textReferences=false&py=3&rawInputLstJSON=%5B%5D&curInstr=0&codeDivWidth=350&codeDivHeight=400\"\n",
       "            frameborder=\"0\"\n",
       "            allowfullscreen\n",
       "            \n",
       "        ></iframe>\n",
       "        "
      ],
      "text/plain": [
       "<IPython.lib.display.IFrame at 0x103fc44c0>"
      ]
     },
     "metadata": {},
     "output_type": "display_data"
    }
   ],
   "source": [
    "%%tutor\n",
    "\n",
    "list1 = [\"A\",\"B\",\"C\",\"D\"]\n",
    "list2 = [\"A\",\"B\",\"E\",\"F\"]\n",
    "\n",
    "for index,element in enumerate(list1):\n",
    "    print(index)\n",
    "    if element in list2:\n",
    "        list1.remove(element)"
   ]
  },
  {
   "cell_type": "markdown",
   "id": "c63131cd-9634-4bb2-8183-bab1e283e232",
   "metadata": {},
   "source": [
    "Iteráció közben módosítottuk a listát, amin iteráltunk! A `for` ciklus az indexeken iterál végig. Az első iterációban a `0` indexnél jártunk, amihez az `A` elem tartozott. Amikor ezt töröltünk, a `0` indexhez a `B` elem kerül, a következő iterációban viszont már az `1` indexű elemet vettük, ami a `C`. Így a `B` kimaradt az iterációból."
   ]
  },
  {
   "cell_type": "markdown",
   "id": "796d49d5",
   "metadata": {},
   "source": [
    "## Algoritmusok for ciklussal"
   ]
  },
  {
   "cell_type": "markdown",
   "id": "07b5b199",
   "metadata": {},
   "source": [
    "### Maximum keresés"
   ]
  },
  {
   "cell_type": "code",
   "execution_count": 173,
   "id": "609bdda0",
   "metadata": {},
   "outputs": [
    {
     "data": {
      "text/html": [
       "\n",
       "        <iframe\n",
       "            width=\"100%\"\n",
       "            height=\"500\"\n",
       "            src=\"https://pythontutor.com/iframe-embed.html#code=my_list%20%3D%20%5B1%2C4%2C7%2C10%2C2%2C5%2C0%2C-1%2C5%5D%0A%0Acurrent_max%20%3D%20my_list%5B0%5D%0Amax_idx%20%3D%200%0Afor%20idx%2Cnum%20in%20enumerate%28my_list%29%3A%0A%20%20%20%20if%20num%20%3E%20current_max%3A%0A%20%20%20%20%20%20%20%20current_max%20%3D%20num%0A%20%20%20%20%20%20%20%20max_idx%20%3D%20idx%0A%0Aprint%28current_max%29%0Aprint%28max_idx%29%0A&origin=opt-frontend.js&cumulative=false&heapPrimitives=false&textReferences=false&py=3&rawInputLstJSON=%5B%5D&curInstr=0&codeDivWidth=350&codeDivHeight=400\"\n",
       "            frameborder=\"0\"\n",
       "            allowfullscreen\n",
       "            \n",
       "        ></iframe>\n",
       "        "
      ],
      "text/plain": [
       "<IPython.lib.display.IFrame at 0x120abe820>"
      ]
     },
     "metadata": {},
     "output_type": "display_data"
    }
   ],
   "source": [
    "%%tutor\n",
    "my_list = [1,4,7,10,2,5,0,-1,5]\n",
    "\n",
    "current_max = my_list[0]\n",
    "max_idx = 0\n",
    "for idx,num in enumerate(my_list):\n",
    "    if num > current_max:\n",
    "        current_max = num\n",
    "        max_idx = idx\n",
    "\n",
    "print(current_max)\n",
    "print(max_idx)"
   ]
  },
  {
   "cell_type": "code",
   "execution_count": 179,
   "id": "8502a92a",
   "metadata": {},
   "outputs": [
    {
     "name": "stdout",
     "output_type": "stream",
     "text": [
      "Legnagyobb szám: 10\n",
      "Legnagyobb szám indexe: 3\n"
     ]
    }
   ],
   "source": [
    "# vagy\n",
    "my_list = [1,4,7,10,2,5,0,-1,5]\n",
    "max_num = max(my_list)\n",
    "print(f\"Legnagyobb szám: {max_num}\")\n",
    "\n",
    "# mi ennek az indexe? Beépített fv. nincs rá :(\n",
    "max_idx = 0\n",
    "for idx,num in enumerate(my_list):\n",
    "    if num == max_num:\n",
    "        max_idx = idx\n",
    "        break\n",
    "print(f\"Legnagyobb szám indexe: {max_idx}\")"
   ]
  },
  {
   "cell_type": "markdown",
   "id": "85942574",
   "metadata": {},
   "source": [
    "### Sorbarendezés"
   ]
  },
  {
   "cell_type": "code",
   "execution_count": 234,
   "id": "656ba28d",
   "metadata": {},
   "outputs": [
    {
     "name": "stdout",
     "output_type": "stream",
     "text": [
      "Step 0: [3, 4, 1, 5, 6, 2]\n",
      "Step 1: [1, 4, 3, 5, 6, 2]\n",
      "Step 2: [1, 2, 3, 5, 6, 4]\n",
      "Step 3: [1, 2, 3, 5, 6, 4]\n",
      "Step 4: [1, 2, 3, 4, 6, 5]\n",
      "Step 5: [1, 2, 3, 4, 5, 6]\n",
      "Step 6: [1, 2, 3, 4, 5, 6]\n"
     ]
    }
   ],
   "source": [
    "my_list = [3,4,1,5,6,2]\n",
    "print(f\"Step 0: {my_list}\")  # Shows the array after each step\n",
    "n = len(my_list)\n",
    "for i in range(n): # fontos, hogy nem közvetlenül a listán iterálunk!\n",
    "    # Find the minimum element in remaining unsorted array\n",
    "    min_idx = i\n",
    "    for j in range(i + 1, n):\n",
    "        if my_list[j] < my_list[min_idx]:\n",
    "            min_idx = j\n",
    "    # Swap the found minimum element with the first element\n",
    "    my_list[i], my_list[min_idx] = my_list[min_idx], my_list[i]\n",
    "    print(f\"Step {i + 1}: {my_list}\")  # Shows the array after each step\n"
   ]
  },
  {
   "cell_type": "code",
   "execution_count": 107,
   "id": "00afc7ad",
   "metadata": {
    "scrolled": true
   },
   "outputs": [
    {
     "data": {
      "text/html": [
       "\n",
       "<iframe\n",
       "  src=\"./selection-sort.html\"\n",
       "  width=\"100%\"\n",
       "  height=\"180px\"\n",
       ">\n",
       "</iframe>\n"
      ],
      "text/plain": [
       "<IPython.core.display.HTML object>"
      ]
     },
     "metadata": {},
     "output_type": "display_data"
    }
   ],
   "source": [
    "%%html \n",
    "\n",
    "<iframe\n",
    "  src=\"./selection-sort.html\"\n",
    "  width=\"100%\"\n",
    "  height=\"180px\"\n",
    ">\n",
    "</iframe>"
   ]
  },
  {
   "cell_type": "code",
   "execution_count": 22,
   "id": "7d611097",
   "metadata": {},
   "outputs": [
    {
     "name": "stdout",
     "output_type": "stream",
     "text": [
      "[3, 4, 1, 5, 6, 2]\n",
      "[3, 1, 4, 5, 6, 2]\n",
      "[3, 1, 4, 5, 2, 6]\n",
      "[1, 3, 4, 5, 2, 6]\n",
      "[1, 3, 4, 2, 5, 6]\n",
      "[1, 3, 2, 4, 5, 6]\n",
      "[1, 2, 3, 4, 5, 6]\n"
     ]
    }
   ],
   "source": [
    "# Bubble sort\n",
    "my_list = [3,4,1,5,6,2]\n",
    "print(my_list)\n",
    "for i in range(len(my_list)-1,0,-1):\n",
    "    for j in range(i):\n",
    "        if my_list[j] > my_list[j+1]:\n",
    "            my_list[j],my_list[j+1] =  my_list[j+1],my_list[j]\n",
    "            print(my_list)"
   ]
  },
  {
   "cell_type": "code",
   "execution_count": 34,
   "id": "86be85cc",
   "metadata": {},
   "outputs": [
    {
     "name": "stdout",
     "output_type": "stream",
     "text": [
      "Próbálkozások száma: 129, eredmény: [1, 2, 3, 4, 5, 6]\n"
     ]
    }
   ],
   "source": [
    "# Bogo-sort :)\n",
    "import random\n",
    "\n",
    "my_list = [3,4,1,5,6,2] # ne növeljük nagyon, ha csak nem érünk rá\n",
    "\n",
    "trials = 0\n",
    "while not sorted(my_list) == my_list:\n",
    "    random.shuffle(my_list)\n",
    "    trials+=1\n",
    "\n",
    "print(f\"Próbálkozások száma: {trials}, eredmény: {my_list}\")"
   ]
  },
  {
   "cell_type": "code",
   "execution_count": 56,
   "id": "eb3fb7d8",
   "metadata": {},
   "outputs": [
    {
     "name": "stdout",
     "output_type": "stream",
     "text": [
      "[11, 13, 14, 15, 16, 17, 19, 20, 21, 21, 23, 26, 29, 32, 32, 35, 36, 44, 47, 49]\n",
      "The index of element 35 in my_list is: 15\n"
     ]
    }
   ],
   "source": [
    "# Bináris keresés rendezett listában\n",
    "import random \n",
    "\n",
    "num_elem = 20\n",
    "my_list = []\n",
    "for _ in range(num_elem):\n",
    "    my_list.append(random.randint(0,50))\n",
    "\n",
    "my_list = sorted(my_list)\n",
    "print(my_list)\n",
    "\n",
    "target = 35\n",
    "\n",
    "left = 0\n",
    "right = len(my_list) - 1\n",
    "\n",
    "for _ in range(len(my_list)):\n",
    "    mid = (left + right) // 2\n",
    "\n",
    "    if my_list[mid] == target:\n",
    "        target_idx = mid\n",
    "        break\n",
    "    elif my_list[mid] > target:\n",
    "        right = mid - 1\n",
    "    else:\n",
    "        left = mid + 1\n",
    "\n",
    "    if left > right:\n",
    "        target_idx = -1\n",
    "        break\n",
    "\n",
    "print(f\"The index of element {target} in my_list is: {target_idx}\")"
   ]
  },
  {
   "cell_type": "code",
   "execution_count": 68,
   "id": "e8fe8e3c",
   "metadata": {},
   "outputs": [
    {
     "name": "stdout",
     "output_type": "stream",
     "text": [
      "1802734890723 prím? Nem\n"
     ]
    }
   ],
   "source": [
    "# Prímcheck\n",
    "import math\n",
    "\n",
    "n = 1802734890723\n",
    "is_prime = True # kezdeti tipp\n",
    "\n",
    "if n<=1:\n",
    "    is_prime = False\n",
    "else:\n",
    "    for i in range(2, int(math.sqrt(n)) + 1):\n",
    "        if n % i == 0:\n",
    "            is_prime = False\n",
    "            break\n",
    "            \n",
    "print(f\"{n} prím? {'Igen' if is_prime else 'Nem' }\")"
   ]
  },
  {
   "cell_type": "markdown",
   "id": "978655f6",
   "metadata": {},
   "source": [
    "## List comprehension"
   ]
  },
  {
   "cell_type": "code",
   "execution_count": 77,
   "id": "0f55d3cf",
   "metadata": {},
   "outputs": [],
   "source": [
    "# Lista elemeinek négyzete\n",
    "l_nums = [2,4,6,8,11]\n",
    "l_squares_for = []\n",
    "\n",
    "for el in l_nums:\n",
    "    l_squares_for.append(el**2)\n",
    "\n",
    "# vagy\n",
    "\n",
    "l_squares_listcomp = [el**2 for el in l_nums]"
   ]
  },
  {
   "cell_type": "code",
   "execution_count": 91,
   "id": "33915f33",
   "metadata": {},
   "outputs": [
    {
     "name": "stdout",
     "output_type": "stream",
     "text": [
      "[1.4142135623730951, 2.449489742783178, 2.8284271247461903, 3.3166247903554, 0.0]\n",
      "[1.4142135623730951, 'NaN', 2.449489742783178, 2.8284271247461903, 3.3166247903554, 'NaN', 0.0]\n"
     ]
    }
   ],
   "source": [
    "# Lista elemeinek négyzetgyöke\n",
    "import math\n",
    "\n",
    "l_nums = [2,-10,6,8,11,-3, 0]\n",
    "\n",
    "# Figyeljünk arra, hogy kezelni kell a negatív számokat!\n",
    "\n",
    "l_sqrt = [math.sqrt(el) for el in l_nums if el >= 0]\n",
    "print(l_sqrt)\n",
    "\n",
    "# Ha szeretnénk else ágat is jelölni a negatív számokat\n",
    "l_sqrt = [math.sqrt(el) if el>=0 else \"NaN\" for el in l_nums]\n",
    "print(l_sqrt)"
   ]
  },
  {
   "cell_type": "code",
   "execution_count": 98,
   "id": "fb2ad78f",
   "metadata": {},
   "outputs": [
    {
     "name": "stdout",
     "output_type": "stream",
     "text": [
      "[17, 20, 128, 10]\n",
      "[17, 20, 128, 10]\n"
     ]
    }
   ],
   "source": [
    "# Euklideszi távolság az origótól 2D-ben\n",
    "points_xy = [(1,4), (4,2), (8,8), (3,1)]\n",
    "distances = [x**2 + y**2 for x,y in points_xy]\n",
    "print(distances)\n",
    "\n",
    "# Mi van akkor, ha külön listában vannak? Használjunk `zip`-et\n",
    "points_x = [1,4,8,3]\n",
    "points_y = [4,2,8,1]\n",
    "\n",
    "distances = [x**2 + y**2 for x,y in zip(points_x,points_y)]"
   ]
  },
  {
   "cell_type": "code",
   "execution_count": 108,
   "id": "6481be91",
   "metadata": {},
   "outputs": [
    {
     "name": "stdout",
     "output_type": "stream",
     "text": [
      "[(1, 1), (1, 2), (1, 3), (1, 4), (1, 5), (2, 1), (2, 2), (2, 3), (2, 4), (2, 5), (3, 1), (3, 2), (3, 3), (3, 4), (3, 5)]\n"
     ]
    },
    {
     "data": {
      "image/png": "[encoded data removed]",
      "text/plain": [
       "<Figure size 640x480 with 1 Axes>"
      ]
     },
     "metadata": {},
     "output_type": "display_data"
    }
   ],
   "source": [
    "# Készítsünk négyzetrácsot x és y koordinátákból. Kell az összes xy kombináció.\n",
    "points_x = [1,2,3]\n",
    "points_y = [1,2,3,4,5]\n",
    "points = [(x,y) for x in points_x for y in points_y]\n",
    "print(points)\n",
    "\n",
    "import matplotlib.pyplot as plt\n",
    "for x,y in points:\n",
    "    plt.scatter(x,y,c=\"k\")"
   ]
  },
  {
   "cell_type": "code",
   "execution_count": 120,
   "id": "4db5f402",
   "metadata": {},
   "outputs": [
    {
     "name": "stdout",
     "output_type": "stream",
     "text": [
      "224 ms ± 2.52 ms per loop (mean ± std. dev. of 7 runs, 1 loop each)\n"
     ]
    }
   ],
   "source": [
    "%%timeit\n",
    "# Egy kis futási idő tesztelés\n",
    "l_for = []\n",
    "MILLION = 1000000\n",
    "\n",
    "for i in range(MILLION):\n",
    "    l_for.append(i**2)"
   ]
  },
  {
   "cell_type": "code",
   "execution_count": 127,
   "id": "d6109c1c",
   "metadata": {},
   "outputs": [
    {
     "name": "stdout",
     "output_type": "stream",
     "text": [
      "206 ms ± 3.43 ms per loop (mean ± std. dev. of 7 runs, 1 loop each)\n"
     ]
    }
   ],
   "source": [
    "%%timeit\n",
    "MILLION = 1000000\n",
    "\n",
    "l_comp = [i**2 for i in range(MILLION)]"
   ]
  },
  {
   "cell_type": "code",
   "execution_count": 132,
   "id": "610bb1cf",
   "metadata": {},
   "outputs": [
    {
     "name": "stdout",
     "output_type": "stream",
     "text": [
      "212 ns ± 2.01 ns per loop (mean ± std. dev. of 7 runs, 1,000,000 loops each)\n"
     ]
    }
   ],
   "source": [
    "%%timeit\n",
    "MILLION = 1000000\n",
    "\n",
    "tuple_comp = (i**2 for i in range(MILLION))"
   ]
  },
  {
   "cell_type": "markdown",
   "id": "31eda25b",
   "metadata": {},
   "source": [
    "Tanulság: list comprehension-ök alapvetően gyorsabbak, mint a for ciklusok. A tuple immutable, ami hatalmas előny sebesség szempontjából."
   ]
  },
  {
   "cell_type": "code",
   "execution_count": 69,
   "id": "c40b4c35-464c-4e57-9205-5acb384102dd",
   "metadata": {},
   "outputs": [
    {
     "name": "stdout",
     "output_type": "stream",
     "text": [
      "doN't USE thaT WEird SPonGeboB MockIng meMe\n"
     ]
    },
    {
     "data": {
      "text/html": [
       "\n",
       "    <div style=\"position: relative; width: 50%;\">\n",
       "        <img src=\"./spongebob.png\" style=\"display: block;\">\n",
       "        <p style=\"position: absolute; bottom: 0%; left: 50%; transform: translate(-50%, -50%); color: white;-webkit-text-stroke: 1px black;  font-size: 24px; font-weight: bold; margin: 0; width: 80%\">\n",
       "            doN't USE thaT WEird SPonGeboB MockIng meMe\n",
       "        </p>\n",
       "</div>\n",
       "    "
      ],
      "text/plain": [
       "<IPython.core.display.HTML object>"
      ]
     },
     "metadata": {},
     "output_type": "display_data"
    }
   ],
   "source": [
    "import random\n",
    "from utils import create_meme\n",
    "\n",
    "original_string = \"don't use that weird spongebob mocking meme\"\n",
    "mock_string = \"\"\n",
    "for char in original_string:\n",
    "    random_number = random.random()\n",
    "    if random_number < 0.5: # 50% esély\n",
    "        mock_string += char.capitalize()\n",
    "    else:\n",
    "        mock_string += char\n",
    "print(mock_string)    \n",
    "create_meme(mock_string)"
   ]
  },
  {
   "cell_type": "code",
   "execution_count": 7,
   "id": "989629d2-268d-45d4-ae6f-ac9f8bafa004",
   "metadata": {},
   "outputs": [
    {
     "data": {
      "text/html": [
       "\n",
       "        <iframe\n",
       "            width=\"100%\"\n",
       "            height=\"500\"\n",
       "            src=\"https://pythontutor.com/iframe-embed.html#code=%0A%23%20list%20comprehension%0Al%20%3D%20%5Be%2A%2Ae%20for%20e%20in%20range%2810%29%20if%20e%252%3D%3D0%5D%0A%23%20set%20comprehension%0As%20%3D%20%7Be%2A%2Ae%20for%20e%20in%20range%2810%29%20if%20e%252%3D%3D0%7D%0A%23%20dict%20comprehension%0Ad%20%3D%20%7Be%3A%20e%2A%2Ae%20for%20e%20in%20range%2810%29%20if%20e%252%3D%3D0%7D%0A&origin=opt-frontend.js&cumulative=false&heapPrimitives=false&textReferences=false&py=3&rawInputLstJSON=%5B%5D&curInstr=0&codeDivWidth=350&codeDivHeight=400\"\n",
       "            frameborder=\"0\"\n",
       "            allowfullscreen\n",
       "            \n",
       "        ></iframe>\n",
       "        "
      ],
      "text/plain": [
       "<IPython.lib.display.IFrame at 0x103b1a220>"
      ]
     },
     "metadata": {},
     "output_type": "display_data"
    }
   ],
   "source": [
    "%%tutor\n",
    "\n",
    "# list comprehension\n",
    "l = [e**e for e in range(10) if e%2==0]\n",
    "# set comprehension\n",
    "s = {e**e for e in range(10) if e%2==0}\n",
    "# dict comprehension\n",
    "d = {e: e**e for e in range(10) if e%2==0}\n"
   ]
  },
  {
   "cell_type": "markdown",
   "id": "cfde06db-587c-46d0-8e5e-41307448dbcc",
   "metadata": {},
   "source": [
    "Test"
   ]
  },
  {
   "cell_type": "code",
   "execution_count": null,
   "id": "6ca9910e-e736-459b-93bc-68f6b7705bab",
   "metadata": {},
   "outputs": [],
   "source": []
  }
 ],
 "metadata": {
  "kernelspec": {
   "display_name": "Python 3 (ipykernel)",
   "language": "python",
   "name": "python3"
  },
  "language_info": {
   "codemirror_mode": {
    "name": "ipython",
    "version": 3
   },
   "file_extension": ".py",
   "mimetype": "text/x-python",
   "name": "python",
   "nbconvert_exporter": "python",
   "pygments_lexer": "ipython3",
   "version": "3.9.16"
  }
 },
 "nbformat": 4,
 "nbformat_minor": 5
}
