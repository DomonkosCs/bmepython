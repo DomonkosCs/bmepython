{
 "cells": [
  {
   "cell_type": "code",
   "execution_count": 23,
   "id": "fa8a5ff1-1f5e-465b-9265-7913eb4b1141",
   "metadata": {},
   "outputs": [],
   "source": [
    "from metakernel import register_ipython_magics\n",
    "register_ipython_magics()"
   ]
  },
  {
   "cell_type": "markdown",
   "id": "9d2522d9-cf81-4c93-85c3-aea40bd5e05e",
   "metadata": {},
   "source": [
    "Tematika\n",
    "\n",
    "4. For ciklus, összetett adatstruktúrák\n",
    "\t1. dictionary (kell a kwargshoz) \n",
    "\t\t1. in operator\n",
    "\t2. set\n",
    "\t3. for\n",
    "\t\t1. iterálás adatstruktúrákon: string, list, ...\n",
    "\t\t2. keresés, alap algoritmusok\n",
    "\t\t3. iterálás indexekkel: range\n",
    "\t\t4. zip, enumerate\n",
    "\t4. list comprehension \n",
    "\t\t1. if-fel együtt\n",
    "\t\t2. említésképp nested list comprehension\n",
    "\t5. debug\n",
    "\t\t1. watch window\n",
    "\t\t2. for ciklusba belépés, ciklikusság bemutatása léptetéseel\n",
    "\t6. algelméletes példák\n",
    "\t\t1. maximum keresés\n",
    "\t\t2. sorbarendezés (valamelyik négyzetes komplexitású algóval, pl. bubble sort)\n",
    "\t\t3. (ennek a repetitivitásával lehet átvezetni a függvényekre)"
   ]
  },
  {
   "cell_type": "markdown",
   "id": "017a8fc8-dc7a-453f-93b2-a63191a9b274",
   "metadata": {},
   "source": [
    "## Dictionary"
   ]
  },
  {
   "cell_type": "markdown",
   "id": "29568916-cf7f-4c14-816d-97dac506ad29",
   "metadata": {},
   "source": [
    "- kulcs-érték párok\n",
    "- ellentétben a listával, itt a értékeket nem a pozíciójuk (indexük) alapján érjük el, hanem a kulcsuk alapján\n",
    "- maga a dictionary megváltoztatható (mutábilis), de a kulcsoknak immutáblilsnek, és egyedinek kell lenniük"
   ]
  },
  {
   "cell_type": "code",
   "execution_count": 63,
   "id": "7bc001db-1fee-4108-b37a-b24fff283750",
   "metadata": {
    "scrolled": true
   },
   "outputs": [
    {
     "data": {
      "text/html": [
       "\n",
       "        <iframe\n",
       "            width=\"100%\"\n",
       "            height=\"500\"\n",
       "            src=\"https://pythontutor.com/iframe-embed.html#code=student%20%3D%20%7B%22n%C3%A9v%22%3A%20%22B%C3%A9la%22%2C%20%22kor%22%3A%2022%2C%20%22v%C3%A9ralkoholszint%22%3A%200.002%7D%0Aname%20%3D%20student%5B%22n%C3%A9v%22%5D%0A&origin=opt-frontend.js&cumulative=false&heapPrimitives=false&textReferences=false&py=3&rawInputLstJSON=%5B%5D&curInstr=0&codeDivWidth=350&codeDivHeight=400\"\n",
       "            frameborder=\"0\"\n",
       "            allowfullscreen\n",
       "            \n",
       "        ></iframe>\n",
       "        "
      ],
      "text/plain": [
       "<IPython.lib.display.IFrame at 0x107cd1ac0>"
      ]
     },
     "metadata": {},
     "output_type": "display_data"
    }
   ],
   "source": [
    "%%tutor\n",
    "student = {\"név\": \"Béla\", \"kor\": 22, \"véralkoholszint\": 0.002}\n",
    "name = student[\"név\"]"
   ]
  },
  {
   "cell_type": "code",
   "execution_count": 68,
   "id": "d64885ac-9e50-494d-9500-44e1e1a8f42f",
   "metadata": {},
   "outputs": [
    {
     "data": {
      "text/html": [
       "\n",
       "        <iframe\n",
       "            width=\"100%\"\n",
       "            height=\"500\"\n",
       "            src=\"https://pythontutor.com/iframe-embed.html#code=studentA%20%3D%20%7B%22n%C3%A9v%22%3A%20%22B%C3%A9la%22%2C%20%22kor%22%3A%2022%2C%20%22v%C3%A9ralkoholszint%22%3A%200.002%7D%0AstudentB%20%3D%20%7B%22n%C3%A9v%22%3A%20%22L%C3%A1szl%C3%B3%22%2C%20%22kor%22%3A%2021%2C%20%22v%C3%A9ralkoholszint%22%3A%200%7D%0A%0Astudents%20%3D%20%7B%22iszik%22%3A%20studentA%2C%20%22nem%20iszik%22%3A%20studentB%7D%0Aprint%28students%29%0A&origin=opt-frontend.js&cumulative=false&heapPrimitives=false&textReferences=false&py=3&rawInputLstJSON=%5B%5D&curInstr=0&codeDivWidth=350&codeDivHeight=400\"\n",
       "            frameborder=\"0\"\n",
       "            allowfullscreen\n",
       "            \n",
       "        ></iframe>\n",
       "        "
      ],
      "text/plain": [
       "<IPython.lib.display.IFrame at 0x10d969670>"
      ]
     },
     "metadata": {},
     "output_type": "display_data"
    }
   ],
   "source": [
    "%%tutor\n",
    "studentA = {\"név\": \"Béla\", \"kor\": 22, \"véralkoholszint\": 0.002}\n",
    "studentB = {\"név\": \"László\", \"kor\": 21, \"véralkoholszint\": 0}\n",
    "\n",
    "students = {\"iszik\": studentA, \"nem iszik\": studentB}\n",
    "print(students)"
   ]
  },
  {
   "cell_type": "code",
   "execution_count": 59,
   "id": "50b95d48-5a87-41c9-9f59-37b179ae6f24",
   "metadata": {},
   "outputs": [
    {
     "name": "stderr",
     "output_type": "stream",
     "text": [
      "Traceback (most recent call last):\n",
      "  File \"/var/folders/qc/rczznb9n5b5fkzyn7sbx04cr0000gn/T/ipykernel_27215/2493319096.py\", line 4, in <module>\n",
      "    student[\"lakhely\"]\n",
      "KeyError: 'lakhely'\n"
     ]
    }
   ],
   "source": [
    "# student[\"lakhely\"]: KeyError-t dob\n",
    "import traceback\n",
    "try:\n",
    "    student[\"lakhely\"]\n",
    "except KeyError:\n",
    "    traceback.print_exc()\n"
   ]
  },
  {
   "cell_type": "markdown",
   "id": "d1ce24c0-a79d-4486-a833-bed470330094",
   "metadata": {},
   "source": [
    "`dictionary.get(key,default=None)`"
   ]
  },
  {
   "cell_type": "code",
   "execution_count": 60,
   "id": "9b975c79-d746-4a92-8753-88433df16bc7",
   "metadata": {},
   "outputs": [
    {
     "name": "stdout",
     "output_type": "stream",
     "text": [
      "None\n",
      "Budapest\n"
     ]
    }
   ],
   "source": [
    "# a .get függvény: ha nem vagyunk biztosak abban, hogy a kulcs megtalálható-e\n",
    "print(student.get(\"lakhely\"))\n",
    "print(student.get(\"lakhely\",\"Budapest\"))"
   ]
  },
  {
   "cell_type": "code",
   "execution_count": 61,
   "id": "6fe59108-bda3-4c40-82be-84fb350a3ae2",
   "metadata": {},
   "outputs": [
    {
     "name": "stdout",
     "output_type": "stream",
     "text": [
      "None\n"
     ]
    }
   ],
   "source": [
    "if \"lakhely\" in student.keys():\n",
    "    print(student[\"lakhely\"])\n",
    "else:\n",
    "    print(None)"
   ]
  },
  {
   "cell_type": "code",
   "execution_count": 51,
   "id": "07f865f8-b7ef-48f0-92f8-81b8c7c37c72",
   "metadata": {},
   "outputs": [
    {
     "name": "stdout",
     "output_type": "stream",
     "text": [
      "unhashable type: 'list'\n"
     ]
    }
   ],
   "source": [
    "# Kulcs csak nem megváltoztatható (immutalbe) objektum lehet\n",
    "key_list = [1]\n",
    "try:\n",
    "    my_dict = {key_list: \"egy\"}\n",
    "except TypeError as e:\n",
    "    print(e)"
   ]
  },
  {
   "cell_type": "code",
   "execution_count": 57,
   "id": "45f59fc2-77d2-4340-9243-8c3abafcc1e6",
   "metadata": {},
   "outputs": [
    {
     "data": {
      "text/plain": [
       "{'egy': [1]}"
      ]
     },
     "execution_count": 57,
     "metadata": {},
     "output_type": "execute_result"
    }
   ],
   "source": [
    "# Fordítva természetesen megy (mivel a string immutable)\n",
    "my_dict = {\"egy\": key_list}\n",
    "my_dict"
   ]
  },
  {
   "cell_type": "markdown",
   "id": "aef232ce-24d7-4f84-95eb-1f251ee04162",
   "metadata": {},
   "source": [
    "## Set"
   ]
  },
  {
   "cell_type": "code",
   "execution_count": 30,
   "id": "824c8550-f621-48bd-b8df-0db0c28c11ab",
   "metadata": {},
   "outputs": [],
   "source": [
    "my_set1 = {1,2,3,4,\"alma\",1j}\n",
    "my_set2 = {1,2,5,6,\"körte\"}\n",
    "my_set1.add(5)"
   ]
  },
  {
   "cell_type": "code",
   "execution_count": 31,
   "id": "2864ab06-cf99-4567-9d9b-1768ed470b1b",
   "metadata": {},
   "outputs": [
    {
     "data": {
      "text/plain": [
       "{1, 1j, 2, 3, 4, 5, 'alma'}"
      ]
     },
     "execution_count": 31,
     "metadata": {},
     "output_type": "execute_result"
    }
   ],
   "source": [
    "my_set1.add(5)\n",
    "my_set1\n",
    "# figyeljük meg, hogy a kiíratási sorrend más, mint az inicializáskor"
   ]
  },
  {
   "cell_type": "code",
   "execution_count": 32,
   "id": "4121ef0b-bfcb-4d1a-b45f-599e7a8b1319",
   "metadata": {},
   "outputs": [
    {
     "name": "stdout",
     "output_type": "stream",
     "text": [
      "'set' object is not subscriptable\n"
     ]
    }
   ],
   "source": [
    "try: \n",
    "    my_set1[1]\n",
    "except Exception as e:\n",
    "    print(e)"
   ]
  },
  {
   "cell_type": "markdown",
   "id": "5124c29f-afcb-43d1-bb3f-7d445bf5c825",
   "metadata": {},
   "source": [
    "`set`-ben nincs sorrendiség definiálva, az elemek helyét az értékük határozza meg. Mi van, ha 2 elem értéke ugyanaz?"
   ]
  },
  {
   "cell_type": "code",
   "execution_count": 33,
   "id": "ca49368f-412c-49e1-b68c-d4034b607b3a",
   "metadata": {},
   "outputs": [
    {
     "data": {
      "text/plain": [
       "{1, 1j, 2, 3, 4, 5, 'alma'}"
      ]
     },
     "execution_count": 33,
     "metadata": {},
     "output_type": "execute_result"
    }
   ],
   "source": [
    "my_set1.add(1)\n",
    "my_set1"
   ]
  },
  {
   "cell_type": "markdown",
   "id": "a9bda96b-f856-41d2-908d-300d68d8f1e9",
   "metadata": {},
   "source": [
    "Nem történik \"semmi\", nem lehet két elem értéke ugyanaz. "
   ]
  },
  {
   "cell_type": "markdown",
   "id": "c9fd5177-8e8f-44b8-af0e-95490457a2b3",
   "metadata": {},
   "source": [
    "Mi van akkor, ha megváltoztatható (mutábilis) adattípust teszünk a `set`-be? Nem lehet: `TypeError`. Szorgalmi: mi lenne a probléma azzal, ha ezt a műveletet engedné az interpreter? Mi az a `hash`, és a `hash table`."
   ]
  },
  {
   "cell_type": "code",
   "execution_count": 34,
   "id": "fb851eab-de6e-4daf-9d45-1403e022e179",
   "metadata": {},
   "outputs": [
    {
     "name": "stdout",
     "output_type": "stream",
     "text": [
      "unhashable type: 'list'\n"
     ]
    }
   ],
   "source": [
    "my_list = [1,2,3]\n",
    "try:\n",
    "    my_set_list = {my_list}\n",
    "except TypeError as e:\n",
    "    print(e)"
   ]
  },
  {
   "cell_type": "markdown",
   "id": "49bf128d-6d57-482a-beee-a6afe9c2626f",
   "metadata": {},
   "source": [
    "Egy-két alap halmazművelet"
   ]
  },
  {
   "cell_type": "code",
   "execution_count": 70,
   "id": "d69752cc-a146-4efc-be6d-0443246ebb0f",
   "metadata": {},
   "outputs": [
    {
     "data": {
      "text/html": [
       "\n",
       "        <iframe\n",
       "            width=\"100%\"\n",
       "            height=\"500\"\n",
       "            src=\"https://pythontutor.com/iframe-embed.html#code=my_set1%20%3D%20%7B1%2C2%2C3%2C4%2C%22alma%22%2C1j%2B2%7D%0Amy_set2%20%3D%20%7B1%2C2%2C5%2C6%2C%22k%C3%B6rte%22%7D%0Amy_set_union%20%3D%20my_set1.union%28my_set2%29%0Amy_set_inter%20%3D%20my_set1.intersection%28my_set2%29%0A&origin=opt-frontend.js&cumulative=false&heapPrimitives=false&textReferences=false&py=3&rawInputLstJSON=%5B%5D&curInstr=0&codeDivWidth=350&codeDivHeight=400\"\n",
       "            frameborder=\"0\"\n",
       "            allowfullscreen\n",
       "            \n",
       "        ></iframe>\n",
       "        "
      ],
      "text/plain": [
       "<IPython.lib.display.IFrame at 0x10db41130>"
      ]
     },
     "metadata": {},
     "output_type": "display_data"
    }
   ],
   "source": [
    "%%tutor\n",
    "my_set1 = {1,2,3,4,\"alma\",1j+2}\n",
    "my_set2 = {1,2,5,6,\"körte\"}\n",
    "my_set_union = my_set1.union(my_set2)\n",
    "my_set_inter = my_set1.intersection(my_set2)"
   ]
  },
  {
   "cell_type": "markdown",
   "id": "609160f5-e13a-43c3-9488-b70da4cd1f71",
   "metadata": {},
   "source": [
    "Trükk: távolítsunk el duplikátumokat egy listából"
   ]
  },
  {
   "cell_type": "code",
   "execution_count": 71,
   "id": "dd635af2-6172-46b7-a785-9e9cf54a76b2",
   "metadata": {},
   "outputs": [
    {
     "name": "stdout",
     "output_type": "stream",
     "text": [
      "[1, 2, 3, 4, 5, 6]\n"
     ]
    }
   ],
   "source": [
    "list_with_dupl = [1,4,4,5,3,3,2,1,3,6]\n",
    "list_undupl_set = list(set(list_with_dupl))\n",
    "print(list_undupl_set)"
   ]
  },
  {
   "cell_type": "code",
   "execution_count": 37,
   "id": "13d0f465-595c-48b7-869e-c57f71485302",
   "metadata": {},
   "outputs": [
    {
     "data": {
      "text/plain": [
       "True"
      ]
     },
     "execution_count": 37,
     "metadata": {},
     "output_type": "execute_result"
    }
   ],
   "source": [
    "upper_limit = 1000000\n",
    "my_list = list(range(upper_limit))\n",
    "\n",
    "my_element = upper_limit-1\n",
    "element_is_in = False\n",
    "\n",
    "for e in my_list:\n",
    "    if e == my_element:\n",
    "        element_is_in = True\n",
    "\n",
    "element_is_in"
   ]
  },
  {
   "cell_type": "code",
   "execution_count": 38,
   "id": "f25f98ca-b3e7-4d78-b0b6-292b6889d184",
   "metadata": {},
   "outputs": [
    {
     "data": {
      "text/plain": [
       "True"
      ]
     },
     "execution_count": 38,
     "metadata": {},
     "output_type": "execute_result"
    }
   ],
   "source": [
    "element_is_in = my_element in my_list\n",
    "element_is_in"
   ]
  },
  {
   "cell_type": "code",
   "execution_count": 39,
   "id": "b8b691fa-dbe4-40b9-bb7b-66e7a55d05a6",
   "metadata": {},
   "outputs": [
    {
     "name": "stdout",
     "output_type": "stream",
     "text": [
      "6.49 ms ± 123 µs per loop (mean ± std. dev. of 7 runs, 100 loops each)\n"
     ]
    }
   ],
   "source": [
    "%timeit my_element in my_list"
   ]
  },
  {
   "cell_type": "code",
   "execution_count": 41,
   "id": "e3fda388-8232-48ae-a03a-4fce6ccd5bce",
   "metadata": {},
   "outputs": [
    {
     "data": {
      "text/plain": [
       "True"
      ]
     },
     "execution_count": 41,
     "metadata": {},
     "output_type": "execute_result"
    }
   ],
   "source": [
    "my_set = set(my_list) # konvertáljuk át\n",
    "my_element in my_set"
   ]
  },
  {
   "cell_type": "code",
   "execution_count": 42,
   "id": "221df6a7-b6c1-4e45-a00b-35d723418be9",
   "metadata": {},
   "outputs": [
    {
     "name": "stdout",
     "output_type": "stream",
     "text": [
      "30.3 ns ± 0.221 ns per loop (mean ± std. dev. of 7 runs, 10,000,000 loops each)\n"
     ]
    }
   ],
   "source": [
    "%timeit my_element in my_set"
   ]
  },
  {
   "cell_type": "code",
   "execution_count": 43,
   "id": "989629d2-268d-45d4-ae6f-ac9f8bafa004",
   "metadata": {},
   "outputs": [
    {
     "data": {
      "text/html": [
       "\n",
       "        <iframe\n",
       "            width=\"100%\"\n",
       "            height=\"500\"\n",
       "            src=\"https://pythontutor.com/iframe-embed.html#code=%23%20list%20comprehension%0Al%20%3D%20%5Be%2A%2Ae%20for%20e%20in%20range%2810%29%20if%20e%252%3D%3D0%5D%0A%23%20set%20comprehension%0As%20%3D%20%7Be%2A%2Ae%20for%20e%20in%20range%2810%29%20if%20e%252%3D%3D0%7D%0A%23%20dict%20comprehension%0Ad%20%3D%20%7Be%3A%20e%2A%2Ae%20for%20e%20in%20range%2810%29%20if%20e%252%3D%3D0%7D%0A&origin=opt-frontend.js&cumulative=false&heapPrimitives=false&textReferences=false&py=3&rawInputLstJSON=%5B%5D&curInstr=0&codeDivWidth=350&codeDivHeight=400\"\n",
       "            frameborder=\"0\"\n",
       "            allowfullscreen\n",
       "            \n",
       "        ></iframe>\n",
       "        "
      ],
      "text/plain": [
       "<IPython.lib.display.IFrame at 0x107cd1b50>"
      ]
     },
     "metadata": {},
     "output_type": "display_data"
    }
   ],
   "source": [
    "%%tutor\n",
    "# list comprehension\n",
    "l = [e**e for e in range(10) if e%2==0]\n",
    "# set comprehension\n",
    "s = {e**e for e in range(10) if e%2==0}\n",
    "# dict comprehension\n",
    "d = {e: e**e for e in range(10) if e%2==0}\n"
   ]
  },
  {
   "cell_type": "markdown",
   "id": "7c4c87b3-32fb-4096-ae87-9224fecf7a62",
   "metadata": {},
   "source": [
    "Adott két lista `list1` és `list1`. Távolítsuk el azokat az elemeket `list1`-ből, amik `list2`-ben benne vannak. "
   ]
  },
  {
   "cell_type": "code",
   "execution_count": 44,
   "id": "7c6002b1-a3b7-48ad-bcf7-7e4a6b152c21",
   "metadata": {
    "scrolled": true
   },
   "outputs": [
    {
     "name": "stdout",
     "output_type": "stream",
     "text": [
      "Eredmény, amire számítunk: ['', '']\n",
      "Eredmény, amit kapunk: ['B', 'C', 'D']\n"
     ]
    }
   ],
   "source": [
    "list1 = [\"A\",\"B\",\"C\",\"D\"]\n",
    "list2 = [\"A\",\"B\",\"E\",\"F\"]\n",
    "\n",
    "for element in list1:\n",
    "    if element in list2:\n",
    "        list1.remove(element)\n",
    "\n",
    "print(\"Eredmény, amire számítunk: ['', '']\")\n",
    "print(f\"Eredmény, amit kapunk: {list1}\")"
   ]
  },
  {
   "cell_type": "markdown",
   "id": "5dc19f2c-f903-432e-a088-de40d7fa970a",
   "metadata": {},
   "source": [
    "Mi történhetett? Vizsáljuk meg közelebbről:"
   ]
  },
  {
   "cell_type": "code",
   "execution_count": 45,
   "id": "fb29fcef-e012-4c9d-8b5f-ad0d413a26d5",
   "metadata": {},
   "outputs": [
    {
     "data": {
      "text/html": [
       "\n",
       "        <iframe\n",
       "            width=\"100%\"\n",
       "            height=\"500\"\n",
       "            src=\"https://pythontutor.com/iframe-embed.html#code=%0Alist1%20%3D%20%5B%22A%22%2C%22B%22%2C%22C%22%2C%22D%22%5D%0Alist2%20%3D%20%5B%22A%22%2C%22B%22%2C%22E%22%2C%22F%22%5D%0A%0Afor%20index%2Celement%20in%20enumerate%28list1%29%3A%0A%20%20%20%20print%28index%29%0A%20%20%20%20if%20element%20in%20list2%3A%0A%20%20%20%20%20%20%20%20list1.remove%28element%29%0A&origin=opt-frontend.js&cumulative=false&heapPrimitives=false&textReferences=false&py=3&rawInputLstJSON=%5B%5D&curInstr=0&codeDivWidth=350&codeDivHeight=400\"\n",
       "            frameborder=\"0\"\n",
       "            allowfullscreen\n",
       "            \n",
       "        ></iframe>\n",
       "        "
      ],
      "text/plain": [
       "<IPython.lib.display.IFrame at 0x108926fa0>"
      ]
     },
     "metadata": {},
     "output_type": "display_data"
    }
   ],
   "source": [
    "%%tutor\n",
    "\n",
    "list1 = [\"A\",\"B\",\"C\",\"D\"]\n",
    "list2 = [\"A\",\"B\",\"E\",\"F\"]\n",
    "\n",
    "for index,element in enumerate(list1):\n",
    "    print(index)\n",
    "    if element in list2:\n",
    "        list1.remove(element)"
   ]
  },
  {
   "cell_type": "markdown",
   "id": "c63131cd-9634-4bb2-8183-bab1e283e232",
   "metadata": {},
   "source": [
    "Iteráció közben módosítottuk a listát, amin iteráltunk! A `for` ciklus az indexeken iterál végig. Az első iterációban a `0` indexnél jártunk, amihez az `A` elem tartozott. Amikor ezt töröltünk, a `0` indexhez a `B` elem kerül, a következő iterációban viszont már az `1` indexű elemet vettük, ami a `C`. Így a `B` kimaradt az iterációból."
   ]
  },
  {
   "cell_type": "markdown",
   "id": "fd588c70-af8a-4ef2-b6b5-f94440842e0c",
   "metadata": {},
   "source": [
    "Miért használunk `set`-et? Azért, mert a keresés benne független az elemeinek számától, $\\mathcal{O}(1)$ az időkomplexitása, ami a listákban ez az elemszámtól függ: $\\mathcal{O}(N)$, mivel végig kell iterálni az elemeken."
   ]
  }
 ],
 "metadata": {
  "kernelspec": {
   "display_name": "Python 3 (ipykernel)",
   "language": "python",
   "name": "python3"
  },
  "language_info": {
   "codemirror_mode": {
    "name": "ipython",
    "version": 3
   },
   "file_extension": ".py",
   "mimetype": "text/x-python",
   "name": "python",
   "nbconvert_exporter": "python",
   "pygments_lexer": "ipython3",
   "version": "3.9.16"
  }
 },
 "nbformat": 4,
 "nbformat_minor": 5
}
